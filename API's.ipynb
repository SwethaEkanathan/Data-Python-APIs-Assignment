{
 "cells": [
  {
   "cell_type": "markdown",
   "id": "7196054f",
   "metadata": {},
   "source": [
    "# Working with APIs"
   ]
  },
  {
   "cell_type": "markdown",
   "id": "0547b71e",
   "metadata": {},
   "source": [
    "API stands for Application programming interface<br>\n",
    "APIs are a way for applications to talk to eachother<br>\n",
    "In python we use the requests package to handle the connection<br>\n",
    "<small><strong>Note: It is requests with an s not request(this is a different package)</strong></small><br>\n",
    "Most API's communicate with data in the form of JSON<br>\n",
    "JSON stands for JavaScript Object Notation"
   ]
  },
  {
   "cell_type": "code",
   "execution_count": 1,
   "id": "4db9d154",
   "metadata": {},
   "outputs": [],
   "source": [
    "#import the packages we need:\n",
    "import requests, json"
   ]
  },
  {
   "cell_type": "markdown",
   "id": "e8c2ce51",
   "metadata": {},
   "source": [
    "We will be connecting to the Ergast F1 Racer API today:\n",
    "http://ergast.com/mrd/\n",
    "\n",
    "to view JSON data nicely in the Chrome browser install the extension JSONview"
   ]
  },
  {
   "cell_type": "code",
   "execution_count": 2,
   "id": "52c440c6",
   "metadata": {},
   "outputs": [],
   "source": [
    "# help(requests)"
   ]
  },
  {
   "cell_type": "code",
   "execution_count": 3,
   "id": "f60c1b4a",
   "metadata": {},
   "outputs": [],
   "source": [
    "url = 'http://ergast.com/api/f1/2008/5/driverStandings.json'"
   ]
  },
  {
   "cell_type": "code",
   "execution_count": 4,
   "id": "7b63a204",
   "metadata": {},
   "outputs": [],
   "source": [
    "#response object\n"
   ]
  },
  {
   "cell_type": "code",
   "execution_count": 5,
   "id": "c6d1fdaf",
   "metadata": {},
   "outputs": [],
   "source": [
    "#check and make sure we got a successful response from the API\n"
   ]
  },
  {
   "cell_type": "code",
   "execution_count": 6,
   "id": "ed4d3256",
   "metadata": {},
   "outputs": [],
   "source": [
    "#view the response as a JSON\n"
   ]
  },
  {
   "cell_type": "code",
   "execution_count": null,
   "id": "92e6cd2c",
   "metadata": {},
   "outputs": [],
   "source": []
  },
  {
   "cell_type": "code",
   "execution_count": 7,
   "id": "f074dfcf",
   "metadata": {},
   "outputs": [],
   "source": [
    "# We only want the Driver Standings\n"
   ]
  },
  {
   "cell_type": "code",
   "execution_count": null,
   "id": "be46a950",
   "metadata": {},
   "outputs": [],
   "source": []
  },
  {
   "cell_type": "code",
   "execution_count": null,
   "id": "3740c752",
   "metadata": {},
   "outputs": [],
   "source": []
  },
  {
   "cell_type": "markdown",
   "id": "6d546014",
   "metadata": {},
   "source": [
    "# <strong>Homework</strong>\n",
    "Retrieve a list of Pokemon's name, abilities, types, and weight from the PokeAPI\n",
    " https://pokeapi.co/\n",
    "\n",
    "Make 20 Pokemon\n",
    "\n",
    "Whenever you need to create a POKEMON, you need to construct your Pokemon through data from the API: https://pokeapi.co/\n",
    "\n",
    "Below is an example of how your Pokemon should be categorized by Type.\n",
    "Create a dictionary\n",
    "{\n",
    "<strong>'Fire'</strong>: {\n",
    "'charizard': {\n",
    "'abilities': [],\n",
    "'weight': ,\n",
    "},\n",
    "'ninetales': {\n",
    "'abilities': [],\n",
    "'weight': ,\n",
    "}\n",
    "},\n",
    "<strong>'Flying'</strong>:,\n",
    "<strong>'Water'</strong>:\n",
    "}\n",
    "\n",
    "Remember, it may be easier to write functions to do your dirty work, and then call them to execute each topic, rather than trying to write a monstrous spaghetti-script that does it all at once; it also might be very good to plan how you'll go about this and what functions you might use before you write 500 lines of code that confuse and befuddle all who lay eyes upon it. Including yourself. An immense portion of good coding is just planning.\n",
    "\n",
    "When you're done, create a GitHub repository for your assignment and save the repository link as the assignment."
   ]
  },
  {
   "cell_type": "code",
   "execution_count": 8,
   "id": "5a9081e3",
   "metadata": {},
   "outputs": [
    {
     "name": "stdout",
     "output_type": "stream",
     "text": [
      "{'grass': {'bulbasaur': {'abilities': ['overgrow', 'chlorophyll'], 'weight': 69}, 'ivysaur': {'abilities': ['overgrow', 'chlorophyll'], 'weight': 130}, 'venusaur': {'abilities': ['overgrow', 'chlorophyll'], 'weight': 1000}}, 'poison': {'bulbasaur': {'abilities': ['overgrow', 'chlorophyll'], 'weight': 69}, 'ivysaur': {'abilities': ['overgrow', 'chlorophyll'], 'weight': 130}, 'venusaur': {'abilities': ['overgrow', 'chlorophyll'], 'weight': 1000}}, 'fire': {'charmander': {'abilities': ['blaze', 'solar-power'], 'weight': 85}, 'charmeleon': {'abilities': ['blaze', 'solar-power'], 'weight': 190}, 'charizard': {'abilities': ['blaze', 'solar-power'], 'weight': 905}}, 'flying': {'charizard': {'abilities': ['blaze', 'solar-power'], 'weight': 905}}, 'water': {'squirtle': {'abilities': ['torrent', 'rain-dish'], 'weight': 90}, 'wartortle': {'abilities': ['torrent', 'rain-dish'], 'weight': 225}, 'blastoise': {'abilities': ['torrent', 'rain-dish'], 'weight': 855}, 'psyduck': {'abilities': ['damp', 'cloud-nine', 'swift-swim'], 'weight': 196}, 'golduck': {'abilities': ['damp', 'cloud-nine', 'swift-swim'], 'weight': 766}}, 'electric': {'pikachu': {'abilities': ['static', 'lightning-rod'], 'weight': 60}, 'raichu': {'abilities': ['static', 'lightning-rod'], 'weight': 300}}, 'normal': {'jigglypuff': {'abilities': ['cute-charm', 'competitive', 'friend-guard'], 'weight': 55}, 'wigglytuff': {'abilities': ['cute-charm', 'competitive', 'frisk'], 'weight': 120}, 'meowth': {'abilities': ['pickup', 'technician', 'unnerve'], 'weight': 42}, 'persian': {'abilities': ['limber', 'technician', 'unnerve'], 'weight': 320}}, 'fairy': {'jigglypuff': {'abilities': ['cute-charm', 'competitive', 'friend-guard'], 'weight': 55}, 'wigglytuff': {'abilities': ['cute-charm', 'competitive', 'frisk'], 'weight': 120}}, 'psychic': {'abra': {'abilities': ['synchronize', 'inner-focus', 'magic-guard'], 'weight': 195}, 'kadabra': {'abilities': ['synchronize', 'inner-focus', 'magic-guard'], 'weight': 565}}}\n"
     ]
    }
   ],
   "source": [
    "import requests\n",
    "\n",
    "def fetch_pokemon_data(pokemon_name):\n",
    "    url = f'https://pokeapi.co/api/v2/pokemon/{pokemon_name.lower()}'\n",
    "    response = requests.get(url)\n",
    "\n",
    "    if response.status_code == 200:\n",
    "        data = response.json()\n",
    "        abilities = [ability['ability']['name'] for ability in data['abilities']]\n",
    "        weight = data['weight']\n",
    "        return {'abilities': abilities, 'weight': weight}\n",
    "    else:\n",
    "        print(f\"Failed to fetch data for {pokemon_name}\")\n",
    "        return None\n",
    "\n",
    "def organize_pokemon_by_type(pokemon_list):\n",
    "    organized_data = {}\n",
    "\n",
    "    for pokemon in pokemon_list:\n",
    "        name = pokemon['name']\n",
    "        url = f'https://pokeapi.co/api/v2/pokemon/{name.lower()}'\n",
    "        response = requests.get(url)\n",
    "        \n",
    "        if response.status_code == 200:\n",
    "            data = response.json()\n",
    "            types = [poke_type['type']['name'] for poke_type in data['types']]\n",
    "            \n",
    "            for poke_type in types:\n",
    "                if poke_type not in organized_data:\n",
    "                    organized_data[poke_type] = {}\n",
    "\n",
    "                organized_data[poke_type][name] = fetch_pokemon_data(name)\n",
    "        else:\n",
    "            print(f\"Failed to fetch data for {name}\")\n",
    "\n",
    "    return organized_data\n",
    "\n",
    "def main():\n",
    "    # List of 20 Pokémon\n",
    "    pokemon_list = [\n",
    "        {'name': 'bulbasaur'},\n",
    "        {'name': 'ivysaur'},\n",
    "        {'name': 'venusaur'},\n",
    "        {'name': 'charmander'},\n",
    "        {'name': 'charmeleon'},\n",
    "        {'name': 'charizard'},\n",
    "        {'name': 'squirtle'},\n",
    "        {'name': 'wartortle'},\n",
    "        {'name': 'blastoise'},\n",
    "        {'name': 'pikachu'},\n",
    "        {'name': 'raichu'},\n",
    "        {'name': 'jigglypuff'},\n",
    "        {'name': 'wigglytuff'},\n",
    "        {'name': 'meowth'},\n",
    "        {'name': 'persian'},\n",
    "        {'name': 'psyduck'},\n",
    "        {'name': 'golduck'},\n",
    "        {'name': 'abra'},\n",
    "        {'name': 'kadabra'},\n",
    "    ]\n",
    "    organized_data = organize_pokemon_by_type(pokemon_list)\n",
    "\n",
    "    # Print the organized data\n",
    "    print(organized_data)\n",
    "\n",
    "if __name__ == \"__main__\":\n",
    "    main()\n"
   ]
  }
 ],
 "metadata": {
  "kernelspec": {
   "display_name": "Python 3 (ipykernel)",
   "language": "python",
   "name": "python3"
  },
  "language_info": {
   "codemirror_mode": {
    "name": "ipython",
    "version": 3
   },
   "file_extension": ".py",
   "mimetype": "text/x-python",
   "name": "python",
   "nbconvert_exporter": "python",
   "pygments_lexer": "ipython3",
   "version": "3.11.5"
  }
 },
 "nbformat": 4,
 "nbformat_minor": 5
}
